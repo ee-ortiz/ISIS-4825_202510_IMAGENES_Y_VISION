{
  "cells": [
    {
      "cell_type": "markdown",
      "metadata": {
        "id": "H0_Btl5u7XKL"
      },
      "source": [
        "[![Open In Colab](https://colab.research.google.com/assets/colab-badge.svg)](https://colab.research.google.com/github/ee-ortiz/ISIS-4825_202510_IMAGENES_Y_VISION/blob/main/Laboratorio_06/Taller/MISIS4825_Laboratorio06_Taller.ipynb)"
      ]
    },
    {
      "cell_type": "markdown",
      "metadata": {
        "id": "--VdpSDa7XKL"
      },
      "source": [
        "![image](https://drive.google.com/u/0/uc?id=15DUc09hFGqR8qcpYiN1OajRNaASmiL6d&export=download)"
      ]
    },
    {
      "cell_type": "markdown",
      "metadata": {
        "id": "4j8ci8E27XKL"
      },
      "source": [
        "# Laboratorio 06 - Taller: Fundamentos de Machine Learning y Redes Neuronales\n",
        "\n",
        "## Introducción\n",
        "\n",
        "En este taller exploraremos el uso de TensorFlow y Keras para el diseño y entrenamiento de redes neuronales perceptrón multicapa. Utilizaremos el conjunto de datos **Alien vs. Predator** para construir un modelo capaz de clasificar imágenes de acuerdo a su clase.\n",
        "\n",
        "## Contenido del Taller\n",
        "\n",
        "1. **Preprocesamiento de Datos**  \n",
        "   - Implemente técnicas de preprocesamiento como normalización, estandarización y aumentación de datos utilizando TensorFlow y Keras.  \n",
        "   - Adicionalmente, puede aplicar cualquier procesamiento explicado previamente en el curso.  \n",
        "   - Justifique cada técnica de preprocesamiento seleccionada y analice su impacto en el desempeño del modelo.\n",
        "\n",
        "2. **Construcción de un Modelo de Red Neuronal Perceptrón Multicapa**  \n",
        "   - Desarrolle un modelo de red neuronal perceptrón multicapa utilizando Keras.  \n",
        "   - Discuta la elección de la arquitectura, detallando el número de capas, la cantidad de neuronas por capa y las funciones de activación empleadas.\n",
        "\n",
        "3. **Definición de Funciones de Callbacks para Monitorear el Entrenamiento**  \n",
        "   - Implemente callbacks en TensorFlow y Keras para monitorear el proceso de entrenamiento.  \n",
        "   - Explique cómo estos callbacks pueden ayudar a identificar problemas como el sobreajuste o un entrenamiento insuficiente.  \n",
        "   - Justifique la selección y configuración de cada callback.\n",
        "\n",
        "4. **Entrenamiento y Exploración de Resultados**  \n",
        "   - Detalle el proceso de entrenamiento, incluyendo la elección de la tasa de aprendizaje, el optimizador y la función de pérdida.  \n",
        "   - Analice los resultados obtenidos utilizando métricas de desempeño como precisión, recall y F1-score.  \n",
        "   - Compare los resultados y discuta posibles mejoras en el modelo.\n",
        "\n",
        "## Datos\n",
        "\n",
        "[Alien vs. Predator images](https://www.kaggle.com/datasets/pmigdal/alien-vs-predator-images)"
      ]
    }
  ],
  "metadata": {
    "language_info": {
      "name": "python"
    },
    "colab": {
      "provenance": []
    }
  },
  "nbformat": 4,
  "nbformat_minor": 0
}